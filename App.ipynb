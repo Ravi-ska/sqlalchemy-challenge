{
 "cells": [
  {
   "cell_type": "code",
   "execution_count": null,
   "id": "6aeacdb5",
   "metadata": {},
   "outputs": [],
   "source": [
    "import numpy as np\n",
    "import pandas as pd\n",
    "import datetime as dt\n",
    "import re\n",
    "\n",
    "import sqlalchemy\n",
    "from sqlalchemy.ext.automap import automap_base\n",
    "from sqlalchemy.inspection import inspect\n",
    "from sqlalchemy.orm import Session\n",
    "from sqlalchemy import create_engine, func\n",
    "from flask import Flask, jsonify"
   ]
  },
  {
   "cell_type": "code",
   "execution_count": null,
   "id": "0392a6f2",
   "metadata": {},
   "outputs": [],
   "source": [
    "engine = create_engine(\"sqlite:///../Resources/hawaii.sqlite\")\n",
    "\n",
    "Base = automap_base()\n",
    "\n",
    "Base.prepare(autoload_with=engine)\n",
    "\n",
    "Station = Base.classes.station\n",
    "Measurement = Base.classes.measurement"
   ]
  },
  {
   "cell_type": "code",
   "execution_count": null,
   "id": "0772e9c4",
   "metadata": {},
   "outputs": [],
   "source": [
    "session = Session(engine)"
   ]
  },
  {
   "cell_type": "code",
   "execution_count": null,
   "id": "dcda8cc0",
   "metadata": {},
   "outputs": [],
   "source": [
    "app = Flask(__name__)"
   ]
  },
  {
   "cell_type": "code",
   "execution_count": null,
   "id": "257c56c8",
   "metadata": {},
   "outputs": [],
   "source": [
    "@app.route(\"/\")\n",
    "def welcome():\n",
    "    return (\n",
    "        f\"Welcome to the Hawaii Climate Analysis API!<br/>\"\n",
    "        f\"Available Routes:<br/>\"\n",
    "        f\"/api/v1.0/precipitation<br/>\"\n",
    "        f\"/api/v1.0/stations<br/>\"\n",
    "        f\"/api/v1.0/tobs<br/>\"\n",
    "        f\"/api/v1.0/start (enter as YYYY-MM-DD)<br/>\"\n",
    "        f\"/api/v1.0/start/end (enter as YYYY-MM-DD/YYYY-MM-DD)\""
   ]
  },
  {
   "cell_type": "code",
   "execution_count": null,
   "id": "f69a24c9",
   "metadata": {},
   "outputs": [],
   "source": [
    "@app.route(\"/api/v1.0/precipitation\")\n",
    "\n",
    "def precipitation():\n",
    "    session = Session(engine)\n",
    "\n",
    "    one_year= dt.date(2017, 8, 23)-dt.timedelta(days=365)\n",
    "    prev_last_date = dt.date(one_year.year, one_year.month, one_year.day)\n",
    "\n",
    "    results= session.query(Measurement.date, Measurement.prcp).filter(Measurement.date >= prev_last_date).order_by(Measurement.date.desc()).all()\n",
    "\n",
    "\n",
    "    p_dict = dict(results)\n",
    "\n",
    "    print(f\"Results for Precipitation - {p_dict}\")\n",
    "    print(\"Out of Precipitation section.\")\n",
    "    return jsonify(p_dict) \n"
   ]
  },
  {
   "cell_type": "code",
   "execution_count": null,
   "id": "71a0fb3b",
   "metadata": {},
   "outputs": [],
   "source": [
    "@app.route(\"/api/v1.0/stations\")\n",
    "def stations():\n",
    "    session = Session(engine)\n",
    "    sel = [Station.station, Station.name, Station.latitude, Station.longitude, Station.elevation]\n",
    "    queryresult = session.query(*sel).all()\n",
    "    session.close()\n",
    "\n",
    "    stations = []\n",
    "    for station,name,lat,lon,el in queryresult:\n",
    "        station_dict = {}\n",
    "        station_dict[\"Station\"] = station\n",
    "        station_dict[\"Name\"] = name\n",
    "        station_dict[\"Lat\"] = lat\n",
    "        station_dict[\"Lon\"] = lon\n",
    "        station_dict[\"Elevation\"] = el\n",
    "        stations.append(station_dict)\n",
    "\n",
    "    return jsonify(stations)"
   ]
  },
  {
   "cell_type": "code",
   "execution_count": null,
   "id": "b15aa98f",
   "metadata": {},
   "outputs": [],
   "source": [
    "@app.route(\"/api/v1.0/stations\")\n",
    "def stations():\n",
    "    session = Session(engine)\n",
    "    sel = [Station.station, Station.name, Station.latitude, Station.longitude, Station.elevation]\n",
    "    queryresult = session.query(*sel).all()\n",
    "    session.close()\n",
    "\n",
    "    stations = []\n",
    "    for station,name,lat,lon,el in queryresult:\n",
    "        station_dict = {}\n",
    "        station_dict[\"Station\"] = station\n",
    "        station_dict[\"Name\"] = name\n",
    "        station_dict[\"Lat\"] = lat\n",
    "        station_dict[\"Lon\"] = lon\n",
    "        station_dict[\"Elevation\"] = el\n",
    "        stations.append(station_dict)\n",
    "\n",
    "    return jsonify(stations)"
   ]
  },
  {
   "cell_type": "code",
   "execution_count": null,
   "id": "7d050563",
   "metadata": {},
   "outputs": [],
   "source": [
    "@app.route(\"/api/v1.0/<start>\")\n",
    "\n",
    "def get_temps_start(start):\n",
    "    session = Session(engine)\n",
    "    results = session.query(func.min(Measurement.tobs), func.avg(Measurement.tobs), func.max(Measurement.tobs)).\\\n",
    "              filter(Measurement.date >= start).all()\n",
    "    session.close()\n",
    "\n",
    "    temps = []\n",
    "    for min_temp, avg_temp, max_temp in results:\n",
    "        temps_dict = {}\n",
    "        temps_dict['Minimum Temperature'] = min_temp\n",
    "        temps_dict['Average Temperature'] = avg_temp\n",
    "        temps_dict['Maximum Temperature'] = max_temp\n",
    "        temps.append(temps_dict)\n",
    "\n",
    "    return jsonify(temps)\n",
    "\n",
    "\n",
    "@app.route(\"/api/v1.0/<start>/<end>\")\n",
    "def get_temps_start_end(start, end):\n",
    "    session = Session(engine)\n",
    "    results = session.query(func.min(Measurement.tobs), func.avg(Measurement.tobs), func.max(Measurement.tobs)).\\\n",
    "              filter(Measurement.date >= start).filter(Measurement.date <= end).all()\n",
    "    session.close()"
   ]
  },
  {
   "cell_type": "code",
   "execution_count": null,
   "id": "867ec0f6",
   "metadata": {},
   "outputs": [],
   "source": [
    "   temps = []\n",
    "    for min_temp, avg_temp, max_temp in results:\n",
    "        temps_dict = {}\n",
    "        temps_dict['Minimum Temperature'] = min_temp\n",
    "        temps_dict['Average Temperature'] = avg_temp\n",
    "        temps_dict['Maximum Temperature'] = max_temp\n",
    "        temps.append(temps_dict)\n",
    "\n",
    "    return jsonify(temps)\n",
    "\n",
    "if __name__ == '__main__':\n",
    "    app.run(debug=True)"
   ]
  }
 ],
 "metadata": {
  "kernelspec": {
   "display_name": "Python 3 (ipykernel)",
   "language": "python",
   "name": "python3"
  },
  "language_info": {
   "codemirror_mode": {
    "name": "ipython",
    "version": 3
   },
   "file_extension": ".py",
   "mimetype": "text/x-python",
   "name": "python",
   "nbconvert_exporter": "python",
   "pygments_lexer": "ipython3",
   "version": "3.10.9"
  }
 },
 "nbformat": 4,
 "nbformat_minor": 5
}
